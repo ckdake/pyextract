{
 "cells": [
  {
   "cell_type": "code",
   "execution_count": 28,
   "metadata": {},
   "outputs": [],
   "source": [
    "import pandas as pd\n",
    "import numpy as np\n",
    "\n",
    "import plotly.graph_objects as go\n",
    "from ipywidgets import widgets\n",
    "\n",
    "#TODO\n",
    "# 1. read myplaces.kml\n",
    "# 2. version control into a github project\n",
    "# 3. read fit files\n",
    "# 4. ALL the graphs and filters\n",
    "# 5. do some interesting viz \n",
    "# 6. fitness&freshness\n",
    "# 7. mapss\n",
    "\n",
    "# Strava export dump csv file\n",
    "df = pd.read_csv('export_5850/activities.csv')\n",
    "df = df.rename(columns={\n",
    "    'Activity Type': 'activity_type', \n",
    "    'Activity Date': 'activity_date', \n",
    "    'Activity Gear': 'activity_gear',\n",
    "    'Distance': 'distance'\n",
    "})\n",
    "#df.head()\n",
    "#import ipywidgets\n",
    "#ipywidgets.IntSlider()"
   ]
  },
  {
   "cell_type": "code",
   "execution_count": 55,
   "metadata": {},
   "outputs": [],
   "source": [
    "def validate():\n",
    "    if activity_type.value in df['activity_type'].unique() and activity_gear.value in df['activity_gear'].unique():\n",
    "        return True\n",
    "    else:\n",
    "        return False\n",
    "    \n",
    "def response(change):\n",
    "    if validate():\n",
    "        temp_df = df[df.activity_type.str.contains(activity_type.value)]\n",
    "        # TODO temp_df2 = temp_df[df.activity_gear.str.contains(activity_gear.value)]\n",
    "        with g.batch_update():\n",
    "            g.data[0].x = temp_df['activity_date']\n",
    "            g.data[0].y = temp_df['distance']\n",
    "        \n",
    "activity_type = widgets.Dropdown(\n",
    "    options=list(df['activity_type'].unique()),\n",
    "    value=df['activity_type'].unique()[0],\n",
    "    description='Activity Type:',\n",
    ")\n",
    "activity_gear = widgets.Dropdown(\n",
    "    options=list(df['activity_gear'].unique()),\n",
    "    value=df['activity_gear'].unique()[0],\n",
    "    description='Activity Gear:',\n",
    ")\n",
    "activity_type.observe(response, names=\"value\")\n",
    "activity_gear.observe(response, names=\"value\")"
   ]
  },
  {
   "cell_type": "code",
   "execution_count": 54,
   "metadata": {},
   "outputs": [
    {
     "data": {
      "application/vnd.jupyter.widget-view+json": {
       "model_id": "40b357d0a1b541e9b7e18e321f924e06",
       "version_major": 2,
       "version_minor": 0
      },
      "text/plain": [
       "VBox(children=(Dropdown(description='Activity Type:', options=('Ride', 'Run', 'Hike', 'Walk', 'Workout', 'Cano…"
      ]
     },
     "metadata": {},
     "output_type": "display_data"
    }
   ],
   "source": [
    "my_chart = go.Scatter(x=df['activity_date'], y=df['distance'], name='Distance over time')\n",
    "g = go.FigureWidget(data=[my_chart],\n",
    "                    layout=go.Layout(\n",
    "                        title=dict(text='Activities distance over time'),\n",
    "                        barmode='overlay'\n",
    "                    ))\n",
    "\n",
    "widgets.VBox([activity_type, activity_gear, g])"
   ]
  },
  {
   "cell_type": "code",
   "execution_count": null,
   "metadata": {},
   "outputs": [],
   "source": []
  },
  {
   "cell_type": "code",
   "execution_count": null,
   "metadata": {},
   "outputs": [],
   "source": []
  }
 ],
 "metadata": {
  "kernelspec": {
   "display_name": "Python 3",
   "language": "python",
   "name": "python3"
  },
  "language_info": {
   "codemirror_mode": {
    "name": "ipython",
    "version": 3
   },
   "file_extension": ".py",
   "mimetype": "text/x-python",
   "name": "python",
   "nbconvert_exporter": "python",
   "pygments_lexer": "ipython3",
   "version": "3.6.9"
  }
 },
 "nbformat": 4,
 "nbformat_minor": 4
}
